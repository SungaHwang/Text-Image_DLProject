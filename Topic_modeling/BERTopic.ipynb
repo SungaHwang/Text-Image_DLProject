{
 "cells": [
  {
   "cell_type": "code",
   "execution_count": 2,
   "metadata": {},
   "outputs": [],
   "source": [
    "from bertopic import BERTopic\n",
    "import pandas as pd"
   ]
  },
  {
   "cell_type": "code",
   "execution_count": 18,
   "metadata": {},
   "outputs": [
    {
     "name": "stdout",
     "output_type": "stream",
     "text": [
      "                                                  Review  Relabel  \\\n",
      "0                          그냥 딱 정핏 이에요 원하던 핏 나와서 너무 좋아요         1   \n",
      "1                              모카베이지라 그냥 베이지보다 묵직한 느낌이에요        1   \n",
      "2            저번에 제주니트 샀을 때 핏이 너무 좋아서 검은색도 샀는데 엘무드 역시 좋네요        1   \n",
      "3      올해 제품이 별로다 ㄴㄴㄴ작년 거가 오진다 에 하비인데요 작년 거 살 때 사이즈표 ...        0   \n",
      "4      막 별로는 아닌데 기대 이하였습니다 딱 점정도워낙 자자해서 구매했는데 재질 그냥그래...        0   \n",
      "...                                                  ...      ...   \n",
      "10889                     밑위가 좀 작은 거 빼곤 전반적으로 만족합니다 괜찮네요        0   \n",
      "10890              이뻐요 엄청 오버핏이라 팔통이 커요 기장은 짧은데 통은 엄청 널벙요        0   \n",
      "10891                        어깨가 넓어보여요 색은 사진과 같고 부드럽습니다         1   \n",
      "10892  올해 특히 더 발마칸 유행이라 주문이 많은지 배송이 조금 늦게 왔지만 옷을 받아보고...        1   \n",
      "10893            니티드 상품은 첨인데깡형 믿고 구매했어요사이즈 완전 핏해요살빼라네요 ㅎ        1   \n",
      "\n",
      "                  Text_label  \n",
      "0                    정핏으로 만족  \n",
      "1      일반 베이지보다 색상이 더 묵직한 느낌  \n",
      "2                  다른 색도 좋은듯  \n",
      "3            보풀 나고 재질은 그저 그럼  \n",
      "4            재질 그냥 그러고 기대 이하  \n",
      "...                      ...  \n",
      "10889                    NaN  \n",
      "10890                    NaN  \n",
      "10891                    NaN  \n",
      "10892                    NaN  \n",
      "10893                    NaN  \n",
      "\n",
      "[10894 rows x 3 columns]\n"
     ]
    }
   ],
   "source": [
    "df = pd.read_csv('/Users/sungahwang/Text-Image_DLProject/Text_Summarization/Data/train_data.csv')\n",
    "print(df)\n",
    "\n",
    "num_topics = 9\n",
    "topic_model = BERTopic(language=\"korean\", nr_topics=num_topics)\n",
    "\n",
    "topics, probabilities = topic_model.fit_transform(df['Review'].tolist())"
   ]
  },
  {
   "cell_type": "code",
   "execution_count": 19,
   "metadata": {},
   "outputs": [
    {
     "data": {
      "text/html": [
       "<div>\n",
       "<style scoped>\n",
       "    .dataframe tbody tr th:only-of-type {\n",
       "        vertical-align: middle;\n",
       "    }\n",
       "\n",
       "    .dataframe tbody tr th {\n",
       "        vertical-align: top;\n",
       "    }\n",
       "\n",
       "    .dataframe thead th {\n",
       "        text-align: right;\n",
       "    }\n",
       "</style>\n",
       "<table border=\"1\" class=\"dataframe\">\n",
       "  <thead>\n",
       "    <tr style=\"text-align: right;\">\n",
       "      <th></th>\n",
       "      <th>Topic</th>\n",
       "      <th>Count</th>\n",
       "      <th>Name</th>\n",
       "      <th>Representation</th>\n",
       "      <th>Representative_Docs</th>\n",
       "    </tr>\n",
       "  </thead>\n",
       "  <tbody>\n",
       "    <tr>\n",
       "      <th>0</th>\n",
       "      <td>-1</td>\n",
       "      <td>5987</td>\n",
       "      <td>-1_너무_좋아요_같아요_조금</td>\n",
       "      <td>[너무, 좋아요, 같아요, 조금, 사이즈, 좋고, 가성비, 진짜, 생각보다, 입기]</td>\n",
       "      <td>[완전 이쁘고 색감도 좋아요 부드럽고 핏도 이쁘네요, 너무 좋아요 너무 좋아요 색상...</td>\n",
       "    </tr>\n",
       "    <tr>\n",
       "      <th>1</th>\n",
       "      <td>0</td>\n",
       "      <td>4020</td>\n",
       "      <td>0_너무_좋아요_가성비_같아요</td>\n",
       "      <td>[너무, 좋아요, 가성비, 같아요, 최고, 좋고, 입기, 진짜, 사이즈, 최고입니다]</td>\n",
       "      <td>[가성비 최고 블레이저  입니다 사이즈 , 데일리로 입기 너무 좋아요 괜찮은 가격에...</td>\n",
       "    </tr>\n",
       "    <tr>\n",
       "      <th>2</th>\n",
       "      <td>1</td>\n",
       "      <td>319</td>\n",
       "      <td>1_너무_조금_같아요_바지</td>\n",
       "      <td>[너무, 조금, 같아요, 바지, 좋아요, 입고, 입을, 입어도, 입기, 약간]</td>\n",
       "      <td>[바지가 와이드 핏이라 체구가 커도 잘 어울려요 또 바지 재질이 얇아서 봄 가을에 ...</td>\n",
       "    </tr>\n",
       "    <tr>\n",
       "      <th>3</th>\n",
       "      <td>2</td>\n",
       "      <td>204</td>\n",
       "      <td>2_어깨가_어깨_너무_조금</td>\n",
       "      <td>[어깨가, 어깨, 너무, 조금, 사이즈, 살짝, 많이, 약간, 같아요, 생각보다]</td>\n",
       "      <td>[키 몸무게 골격근량 대략 체지방률에서 왔다갔다함키에 비해 근육이 어느정도 있으신분...</td>\n",
       "    </tr>\n",
       "    <tr>\n",
       "      <th>4</th>\n",
       "      <td>3</td>\n",
       "      <td>196</td>\n",
       "      <td>3_다른_너무_색감_좋아요</td>\n",
       "      <td>[다른, 너무, 색감, 좋아요, 색감이, 색상도, 최고입니다, 색상이, 색감도, 그레이]</td>\n",
       "      <td>[색감이 정말 예쁘고 사이즈도 넉넉하고 좋아요 다른 색상도 구매해야겠어요, 파스텔톤...</td>\n",
       "    </tr>\n",
       "    <tr>\n",
       "      <th>5</th>\n",
       "      <td>4</td>\n",
       "      <td>99</td>\n",
       "      <td>4_냄새가_냄새_세탁해도_너무</td>\n",
       "      <td>[냄새가, 냄새, 세탁해도, 너무, 나요, 냄새는, 진짜, 심하게, 옷에서, 나서]</td>\n",
       "      <td>[옷이 질을 떠나서 약품냄새 공장 냄새가 너무 심해요 도저히 입을 수 없어서 후기용...</td>\n",
       "    </tr>\n",
       "    <tr>\n",
       "      <th>6</th>\n",
       "      <td>5</td>\n",
       "      <td>34</td>\n",
       "      <td>5_다시_그냥_배송_교환</td>\n",
       "      <td>[다시, 그냥, 배송, 교환, 제품은, 제가, 받아서, 제품이, 받았습니다, 불량이]</td>\n",
       "      <td>[후기가 좋고 가격도 착해서 구매했는데요자켓 안감이 뒤틀어져 있어서 교환 요청해서 ...</td>\n",
       "    </tr>\n",
       "    <tr>\n",
       "      <th>7</th>\n",
       "      <td>6</td>\n",
       "      <td>25</td>\n",
       "      <td>6_디자인은_디자인도_좋아요_너무</td>\n",
       "      <td>[디자인은, 디자인도, 좋아요, 너무, 디자인, 디자인이, 디자인이고, 사이즈도, ...</td>\n",
       "      <td>[재질이 부드럽고 좋은 것 같고 디자인도 딱 마음에 드는 핏인 것 같습니다 사이즈 ...</td>\n",
       "    </tr>\n",
       "    <tr>\n",
       "      <th>8</th>\n",
       "      <td>7</td>\n",
       "      <td>10</td>\n",
       "      <td>7_사이즈_조금_정사이즈_사이즈가</td>\n",
       "      <td>[사이즈, 조금, 정사이즈, 사이즈가, 작게, 사이즈로, 매우, 만족스럽구요, 맞길...</td>\n",
       "      <td>[사이즈 크다해서 작게 주문했는데 너무 작아서 그냥 정사이즈 로 교환했습니다 정사이...</td>\n",
       "    </tr>\n",
       "  </tbody>\n",
       "</table>\n",
       "</div>"
      ],
      "text/plain": [
       "   Topic  Count                Name  \\\n",
       "0     -1   5987    -1_너무_좋아요_같아요_조금   \n",
       "1      0   4020    0_너무_좋아요_가성비_같아요   \n",
       "2      1    319      1_너무_조금_같아요_바지   \n",
       "3      2    204      2_어깨가_어깨_너무_조금   \n",
       "4      3    196      3_다른_너무_색감_좋아요   \n",
       "5      4     99    4_냄새가_냄새_세탁해도_너무   \n",
       "6      5     34       5_다시_그냥_배송_교환   \n",
       "7      6     25  6_디자인은_디자인도_좋아요_너무   \n",
       "8      7     10  7_사이즈_조금_정사이즈_사이즈가   \n",
       "\n",
       "                                      Representation  \\\n",
       "0     [너무, 좋아요, 같아요, 조금, 사이즈, 좋고, 가성비, 진짜, 생각보다, 입기]   \n",
       "1    [너무, 좋아요, 가성비, 같아요, 최고, 좋고, 입기, 진짜, 사이즈, 최고입니다]   \n",
       "2        [너무, 조금, 같아요, 바지, 좋아요, 입고, 입을, 입어도, 입기, 약간]   \n",
       "3      [어깨가, 어깨, 너무, 조금, 사이즈, 살짝, 많이, 약간, 같아요, 생각보다]   \n",
       "4  [다른, 너무, 색감, 좋아요, 색감이, 색상도, 최고입니다, 색상이, 색감도, 그레이]   \n",
       "5     [냄새가, 냄새, 세탁해도, 너무, 나요, 냄새는, 진짜, 심하게, 옷에서, 나서]   \n",
       "6    [다시, 그냥, 배송, 교환, 제품은, 제가, 받아서, 제품이, 받았습니다, 불량이]   \n",
       "7  [디자인은, 디자인도, 좋아요, 너무, 디자인, 디자인이, 디자인이고, 사이즈도, ...   \n",
       "8  [사이즈, 조금, 정사이즈, 사이즈가, 작게, 사이즈로, 매우, 만족스럽구요, 맞길...   \n",
       "\n",
       "                                 Representative_Docs  \n",
       "0  [완전 이쁘고 색감도 좋아요 부드럽고 핏도 이쁘네요, 너무 좋아요 너무 좋아요 색상...  \n",
       "1  [가성비 최고 블레이저  입니다 사이즈 , 데일리로 입기 너무 좋아요 괜찮은 가격에...  \n",
       "2  [바지가 와이드 핏이라 체구가 커도 잘 어울려요 또 바지 재질이 얇아서 봄 가을에 ...  \n",
       "3  [키 몸무게 골격근량 대략 체지방률에서 왔다갔다함키에 비해 근육이 어느정도 있으신분...  \n",
       "4  [색감이 정말 예쁘고 사이즈도 넉넉하고 좋아요 다른 색상도 구매해야겠어요, 파스텔톤...  \n",
       "5  [옷이 질을 떠나서 약품냄새 공장 냄새가 너무 심해요 도저히 입을 수 없어서 후기용...  \n",
       "6  [후기가 좋고 가격도 착해서 구매했는데요자켓 안감이 뒤틀어져 있어서 교환 요청해서 ...  \n",
       "7  [재질이 부드럽고 좋은 것 같고 디자인도 딱 마음에 드는 핏인 것 같습니다 사이즈 ...  \n",
       "8  [사이즈 크다해서 작게 주문했는데 너무 작아서 그냥 정사이즈 로 교환했습니다 정사이...  "
      ]
     },
     "execution_count": 19,
     "metadata": {},
     "output_type": "execute_result"
    }
   ],
   "source": [
    "topic_model.get_topic_info()"
   ]
  },
  {
   "cell_type": "code",
   "execution_count": 21,
   "metadata": {},
   "outputs": [
    {
     "data": {
      "application/vnd.plotly.v1+json": {
       "config": {
        "plotlyServerURL": "https://plot.ly"
       },
       "data": [
        {
         "marker": {
          "color": "#D55E00"
         },
         "orientation": "h",
         "type": "bar",
         "x": [
          0.016962560560212326,
          0.018821947443148083,
          0.0200514034806186,
          0.020198876762723108,
          0.02095743315157612,
          0.021292399953151124,
          0.02310679738394884,
          0.02801278135695563,
          0.04682546717679721,
          0.05550913019064624
         ],
         "xaxis": "x",
         "y": [
          "최고입니다  ",
          "사이즈  ",
          "진짜  ",
          "입기  ",
          "좋고  ",
          "최고  ",
          "같아요  ",
          "가성비  ",
          "좋아요  ",
          "너무  "
         ],
         "yaxis": "y"
        },
        {
         "marker": {
          "color": "#0072B2"
         },
         "orientation": "h",
         "type": "bar",
         "x": [
          0.012752235230925172,
          0.013520429684211419,
          0.013788869068146916,
          0.014130120395909844,
          0.014170484675284352,
          0.014471379580880635,
          0.015327152942034203,
          0.015577368994572627,
          0.022421364038692933,
          0.0282098967674721
         ],
         "xaxis": "x2",
         "y": [
          "약간  ",
          "입기  ",
          "입어도  ",
          "입을  ",
          "입고  ",
          "좋아요  ",
          "바지  ",
          "같아요  ",
          "조금  ",
          "너무  "
         ],
         "yaxis": "y2"
        },
        {
         "marker": {
          "color": "#CC79A7"
         },
         "orientation": "h",
         "type": "bar",
         "x": [
          0.015152752524543229,
          0.015410002927058415,
          0.016277706982073044,
          0.017606282512164683,
          0.01816315468989474,
          0.018849576542896485,
          0.02233048880743654,
          0.026455430240769944,
          0.026621787470547113,
          0.04018624645935058
         ],
         "xaxis": "x3",
         "y": [
          "생각보다  ",
          "같아요  ",
          "약간  ",
          "많이  ",
          "살짝  ",
          "사이즈  ",
          "조금  ",
          "너무  ",
          "어깨  ",
          "어깨가  "
         ],
         "yaxis": "y3"
        },
        {
         "marker": {
          "color": "#E69F00"
         },
         "orientation": "h",
         "type": "bar",
         "x": [
          0.022878761659109025,
          0.022915784772104885,
          0.023312986576151246,
          0.024222014896206956,
          0.0257120897108582,
          0.02614862617149852,
          0.0284954665030729,
          0.03327799639626663,
          0.0482047986147162,
          0.04891864325379989
         ],
         "xaxis": "x4",
         "y": [
          "그레이  ",
          "색감도  ",
          "색상이  ",
          "최고입니다  ",
          "색상도  ",
          "색감이  ",
          "좋아요  ",
          "색감  ",
          "너무  ",
          "다른  "
         ],
         "yaxis": "y4"
        },
        {
         "marker": {
          "color": "#56B4E9"
         },
         "orientation": "h",
         "type": "bar",
         "x": [
          0.017494810412904446,
          0.017878953006393503,
          0.018716083250748937,
          0.019799358242923414,
          0.023093903467756777,
          0.027145154283313926,
          0.028766138096089803,
          0.028867379334695967,
          0.05295734664514014,
          0.09398825950761476
         ],
         "xaxis": "x5",
         "y": [
          "나서  ",
          "옷에서  ",
          "심하게  ",
          "진짜  ",
          "냄새는  ",
          "나요  ",
          "너무  ",
          "세탁해도  ",
          "냄새  ",
          "냄새가  "
         ],
         "yaxis": "y5"
        },
        {
         "marker": {
          "color": "#009E73"
         },
         "orientation": "h",
         "type": "bar",
         "x": [
          0.019552553630279655,
          0.02102834824577337,
          0.021678770604930127,
          0.024027991413059224,
          0.024588377359987208,
          0.02608256291082601,
          0.02770668490309302,
          0.030395406593691766,
          0.031299277013058346,
          0.03960208218646419
         ],
         "xaxis": "x6",
         "y": [
          "불량이  ",
          "받았습니다  ",
          "제품이  ",
          "받아서  ",
          "제가  ",
          "제품은  ",
          "교환  ",
          "배송  ",
          "그냥  ",
          "다시  "
         ],
         "yaxis": "y6"
        },
        {
         "marker": {
          "color": "#F0E442"
         },
         "orientation": "h",
         "type": "bar",
         "x": [
          0.03872597476251455,
          0.041049064188385526,
          0.041123068652759796,
          0.06052731187945067,
          0.06596769506207208,
          0.0716214561840295,
          0.07603694208607735,
          0.07635949608322302,
          0.09615242011831816,
          0.14398084053031052
         ],
         "xaxis": "x7",
         "y": [
          "무난한  ",
          "같습니다  ",
          "사이즈도  ",
          "디자인이고  ",
          "디자인이  ",
          "디자인  ",
          "너무  ",
          "좋아요  ",
          "디자인도  ",
          "디자인은  "
         ],
         "yaxis": "y7"
        },
        {
         "marker": {
          "color": "#D55E00"
         },
         "orientation": "h",
         "type": "bar",
         "x": [
          0.06589629694785634,
          0.06589629694785634,
          0.06589629694785634,
          0.0666623331191009,
          0.07166715914337059,
          0.07575918711279066,
          0.08393430950372818,
          0.08434489847594517,
          0.10340033603570885,
          0.12510438130182666
         ],
         "xaxis": "x8",
         "y": [
          "작은감이  ",
          "맞길래  ",
          "만족스럽구요  ",
          "매우  ",
          "사이즈로  ",
          "작게  ",
          "사이즈가  ",
          "정사이즈  ",
          "조금  ",
          "사이즈  "
         ],
         "yaxis": "y8"
        }
       ],
       "layout": {
        "annotations": [
         {
          "font": {
           "size": 16
          },
          "showarrow": false,
          "text": "Topic 0",
          "x": 0.0875,
          "xanchor": "center",
          "xref": "paper",
          "y": 1,
          "yanchor": "bottom",
          "yref": "paper"
         },
         {
          "font": {
           "size": 16
          },
          "showarrow": false,
          "text": "Topic 1",
          "x": 0.36250000000000004,
          "xanchor": "center",
          "xref": "paper",
          "y": 1,
          "yanchor": "bottom",
          "yref": "paper"
         },
         {
          "font": {
           "size": 16
          },
          "showarrow": false,
          "text": "Topic 2",
          "x": 0.6375000000000001,
          "xanchor": "center",
          "xref": "paper",
          "y": 1,
          "yanchor": "bottom",
          "yref": "paper"
         },
         {
          "font": {
           "size": 16
          },
          "showarrow": false,
          "text": "Topic 3",
          "x": 0.9125,
          "xanchor": "center",
          "xref": "paper",
          "y": 1,
          "yanchor": "bottom",
          "yref": "paper"
         },
         {
          "font": {
           "size": 16
          },
          "showarrow": false,
          "text": "Topic 4",
          "x": 0.0875,
          "xanchor": "center",
          "xref": "paper",
          "y": 0.4,
          "yanchor": "bottom",
          "yref": "paper"
         },
         {
          "font": {
           "size": 16
          },
          "showarrow": false,
          "text": "Topic 5",
          "x": 0.36250000000000004,
          "xanchor": "center",
          "xref": "paper",
          "y": 0.4,
          "yanchor": "bottom",
          "yref": "paper"
         },
         {
          "font": {
           "size": 16
          },
          "showarrow": false,
          "text": "Topic 6",
          "x": 0.6375000000000001,
          "xanchor": "center",
          "xref": "paper",
          "y": 0.4,
          "yanchor": "bottom",
          "yref": "paper"
         },
         {
          "font": {
           "size": 16
          },
          "showarrow": false,
          "text": "Topic 7",
          "x": 0.9125,
          "xanchor": "center",
          "xref": "paper",
          "y": 0.4,
          "yanchor": "bottom",
          "yref": "paper"
         }
        ],
        "height": 500,
        "hoverlabel": {
         "bgcolor": "white",
         "font": {
          "family": "Rockwell",
          "size": 16
         }
        },
        "showlegend": false,
        "template": {
         "data": {
          "bar": [
           {
            "error_x": {
             "color": "#2a3f5f"
            },
            "error_y": {
             "color": "#2a3f5f"
            },
            "marker": {
             "line": {
              "color": "white",
              "width": 0.5
             },
             "pattern": {
              "fillmode": "overlay",
              "size": 10,
              "solidity": 0.2
             }
            },
            "type": "bar"
           }
          ],
          "barpolar": [
           {
            "marker": {
             "line": {
              "color": "white",
              "width": 0.5
             },
             "pattern": {
              "fillmode": "overlay",
              "size": 10,
              "solidity": 0.2
             }
            },
            "type": "barpolar"
           }
          ],
          "carpet": [
           {
            "aaxis": {
             "endlinecolor": "#2a3f5f",
             "gridcolor": "#C8D4E3",
             "linecolor": "#C8D4E3",
             "minorgridcolor": "#C8D4E3",
             "startlinecolor": "#2a3f5f"
            },
            "baxis": {
             "endlinecolor": "#2a3f5f",
             "gridcolor": "#C8D4E3",
             "linecolor": "#C8D4E3",
             "minorgridcolor": "#C8D4E3",
             "startlinecolor": "#2a3f5f"
            },
            "type": "carpet"
           }
          ],
          "choropleth": [
           {
            "colorbar": {
             "outlinewidth": 0,
             "ticks": ""
            },
            "type": "choropleth"
           }
          ],
          "contour": [
           {
            "colorbar": {
             "outlinewidth": 0,
             "ticks": ""
            },
            "colorscale": [
             [
              0,
              "#0d0887"
             ],
             [
              0.1111111111111111,
              "#46039f"
             ],
             [
              0.2222222222222222,
              "#7201a8"
             ],
             [
              0.3333333333333333,
              "#9c179e"
             ],
             [
              0.4444444444444444,
              "#bd3786"
             ],
             [
              0.5555555555555556,
              "#d8576b"
             ],
             [
              0.6666666666666666,
              "#ed7953"
             ],
             [
              0.7777777777777778,
              "#fb9f3a"
             ],
             [
              0.8888888888888888,
              "#fdca26"
             ],
             [
              1,
              "#f0f921"
             ]
            ],
            "type": "contour"
           }
          ],
          "contourcarpet": [
           {
            "colorbar": {
             "outlinewidth": 0,
             "ticks": ""
            },
            "type": "contourcarpet"
           }
          ],
          "heatmap": [
           {
            "colorbar": {
             "outlinewidth": 0,
             "ticks": ""
            },
            "colorscale": [
             [
              0,
              "#0d0887"
             ],
             [
              0.1111111111111111,
              "#46039f"
             ],
             [
              0.2222222222222222,
              "#7201a8"
             ],
             [
              0.3333333333333333,
              "#9c179e"
             ],
             [
              0.4444444444444444,
              "#bd3786"
             ],
             [
              0.5555555555555556,
              "#d8576b"
             ],
             [
              0.6666666666666666,
              "#ed7953"
             ],
             [
              0.7777777777777778,
              "#fb9f3a"
             ],
             [
              0.8888888888888888,
              "#fdca26"
             ],
             [
              1,
              "#f0f921"
             ]
            ],
            "type": "heatmap"
           }
          ],
          "heatmapgl": [
           {
            "colorbar": {
             "outlinewidth": 0,
             "ticks": ""
            },
            "colorscale": [
             [
              0,
              "#0d0887"
             ],
             [
              0.1111111111111111,
              "#46039f"
             ],
             [
              0.2222222222222222,
              "#7201a8"
             ],
             [
              0.3333333333333333,
              "#9c179e"
             ],
             [
              0.4444444444444444,
              "#bd3786"
             ],
             [
              0.5555555555555556,
              "#d8576b"
             ],
             [
              0.6666666666666666,
              "#ed7953"
             ],
             [
              0.7777777777777778,
              "#fb9f3a"
             ],
             [
              0.8888888888888888,
              "#fdca26"
             ],
             [
              1,
              "#f0f921"
             ]
            ],
            "type": "heatmapgl"
           }
          ],
          "histogram": [
           {
            "marker": {
             "pattern": {
              "fillmode": "overlay",
              "size": 10,
              "solidity": 0.2
             }
            },
            "type": "histogram"
           }
          ],
          "histogram2d": [
           {
            "colorbar": {
             "outlinewidth": 0,
             "ticks": ""
            },
            "colorscale": [
             [
              0,
              "#0d0887"
             ],
             [
              0.1111111111111111,
              "#46039f"
             ],
             [
              0.2222222222222222,
              "#7201a8"
             ],
             [
              0.3333333333333333,
              "#9c179e"
             ],
             [
              0.4444444444444444,
              "#bd3786"
             ],
             [
              0.5555555555555556,
              "#d8576b"
             ],
             [
              0.6666666666666666,
              "#ed7953"
             ],
             [
              0.7777777777777778,
              "#fb9f3a"
             ],
             [
              0.8888888888888888,
              "#fdca26"
             ],
             [
              1,
              "#f0f921"
             ]
            ],
            "type": "histogram2d"
           }
          ],
          "histogram2dcontour": [
           {
            "colorbar": {
             "outlinewidth": 0,
             "ticks": ""
            },
            "colorscale": [
             [
              0,
              "#0d0887"
             ],
             [
              0.1111111111111111,
              "#46039f"
             ],
             [
              0.2222222222222222,
              "#7201a8"
             ],
             [
              0.3333333333333333,
              "#9c179e"
             ],
             [
              0.4444444444444444,
              "#bd3786"
             ],
             [
              0.5555555555555556,
              "#d8576b"
             ],
             [
              0.6666666666666666,
              "#ed7953"
             ],
             [
              0.7777777777777778,
              "#fb9f3a"
             ],
             [
              0.8888888888888888,
              "#fdca26"
             ],
             [
              1,
              "#f0f921"
             ]
            ],
            "type": "histogram2dcontour"
           }
          ],
          "mesh3d": [
           {
            "colorbar": {
             "outlinewidth": 0,
             "ticks": ""
            },
            "type": "mesh3d"
           }
          ],
          "parcoords": [
           {
            "line": {
             "colorbar": {
              "outlinewidth": 0,
              "ticks": ""
             }
            },
            "type": "parcoords"
           }
          ],
          "pie": [
           {
            "automargin": true,
            "type": "pie"
           }
          ],
          "scatter": [
           {
            "fillpattern": {
             "fillmode": "overlay",
             "size": 10,
             "solidity": 0.2
            },
            "type": "scatter"
           }
          ],
          "scatter3d": [
           {
            "line": {
             "colorbar": {
              "outlinewidth": 0,
              "ticks": ""
             }
            },
            "marker": {
             "colorbar": {
              "outlinewidth": 0,
              "ticks": ""
             }
            },
            "type": "scatter3d"
           }
          ],
          "scattercarpet": [
           {
            "marker": {
             "colorbar": {
              "outlinewidth": 0,
              "ticks": ""
             }
            },
            "type": "scattercarpet"
           }
          ],
          "scattergeo": [
           {
            "marker": {
             "colorbar": {
              "outlinewidth": 0,
              "ticks": ""
             }
            },
            "type": "scattergeo"
           }
          ],
          "scattergl": [
           {
            "marker": {
             "colorbar": {
              "outlinewidth": 0,
              "ticks": ""
             }
            },
            "type": "scattergl"
           }
          ],
          "scattermapbox": [
           {
            "marker": {
             "colorbar": {
              "outlinewidth": 0,
              "ticks": ""
             }
            },
            "type": "scattermapbox"
           }
          ],
          "scatterpolar": [
           {
            "marker": {
             "colorbar": {
              "outlinewidth": 0,
              "ticks": ""
             }
            },
            "type": "scatterpolar"
           }
          ],
          "scatterpolargl": [
           {
            "marker": {
             "colorbar": {
              "outlinewidth": 0,
              "ticks": ""
             }
            },
            "type": "scatterpolargl"
           }
          ],
          "scatterternary": [
           {
            "marker": {
             "colorbar": {
              "outlinewidth": 0,
              "ticks": ""
             }
            },
            "type": "scatterternary"
           }
          ],
          "surface": [
           {
            "colorbar": {
             "outlinewidth": 0,
             "ticks": ""
            },
            "colorscale": [
             [
              0,
              "#0d0887"
             ],
             [
              0.1111111111111111,
              "#46039f"
             ],
             [
              0.2222222222222222,
              "#7201a8"
             ],
             [
              0.3333333333333333,
              "#9c179e"
             ],
             [
              0.4444444444444444,
              "#bd3786"
             ],
             [
              0.5555555555555556,
              "#d8576b"
             ],
             [
              0.6666666666666666,
              "#ed7953"
             ],
             [
              0.7777777777777778,
              "#fb9f3a"
             ],
             [
              0.8888888888888888,
              "#fdca26"
             ],
             [
              1,
              "#f0f921"
             ]
            ],
            "type": "surface"
           }
          ],
          "table": [
           {
            "cells": {
             "fill": {
              "color": "#EBF0F8"
             },
             "line": {
              "color": "white"
             }
            },
            "header": {
             "fill": {
              "color": "#C8D4E3"
             },
             "line": {
              "color": "white"
             }
            },
            "type": "table"
           }
          ]
         },
         "layout": {
          "annotationdefaults": {
           "arrowcolor": "#2a3f5f",
           "arrowhead": 0,
           "arrowwidth": 1
          },
          "autotypenumbers": "strict",
          "coloraxis": {
           "colorbar": {
            "outlinewidth": 0,
            "ticks": ""
           }
          },
          "colorscale": {
           "diverging": [
            [
             0,
             "#8e0152"
            ],
            [
             0.1,
             "#c51b7d"
            ],
            [
             0.2,
             "#de77ae"
            ],
            [
             0.3,
             "#f1b6da"
            ],
            [
             0.4,
             "#fde0ef"
            ],
            [
             0.5,
             "#f7f7f7"
            ],
            [
             0.6,
             "#e6f5d0"
            ],
            [
             0.7,
             "#b8e186"
            ],
            [
             0.8,
             "#7fbc41"
            ],
            [
             0.9,
             "#4d9221"
            ],
            [
             1,
             "#276419"
            ]
           ],
           "sequential": [
            [
             0,
             "#0d0887"
            ],
            [
             0.1111111111111111,
             "#46039f"
            ],
            [
             0.2222222222222222,
             "#7201a8"
            ],
            [
             0.3333333333333333,
             "#9c179e"
            ],
            [
             0.4444444444444444,
             "#bd3786"
            ],
            [
             0.5555555555555556,
             "#d8576b"
            ],
            [
             0.6666666666666666,
             "#ed7953"
            ],
            [
             0.7777777777777778,
             "#fb9f3a"
            ],
            [
             0.8888888888888888,
             "#fdca26"
            ],
            [
             1,
             "#f0f921"
            ]
           ],
           "sequentialminus": [
            [
             0,
             "#0d0887"
            ],
            [
             0.1111111111111111,
             "#46039f"
            ],
            [
             0.2222222222222222,
             "#7201a8"
            ],
            [
             0.3333333333333333,
             "#9c179e"
            ],
            [
             0.4444444444444444,
             "#bd3786"
            ],
            [
             0.5555555555555556,
             "#d8576b"
            ],
            [
             0.6666666666666666,
             "#ed7953"
            ],
            [
             0.7777777777777778,
             "#fb9f3a"
            ],
            [
             0.8888888888888888,
             "#fdca26"
            ],
            [
             1,
             "#f0f921"
            ]
           ]
          },
          "colorway": [
           "#636efa",
           "#EF553B",
           "#00cc96",
           "#ab63fa",
           "#FFA15A",
           "#19d3f3",
           "#FF6692",
           "#B6E880",
           "#FF97FF",
           "#FECB52"
          ],
          "font": {
           "color": "#2a3f5f"
          },
          "geo": {
           "bgcolor": "white",
           "lakecolor": "white",
           "landcolor": "white",
           "showlakes": true,
           "showland": true,
           "subunitcolor": "#C8D4E3"
          },
          "hoverlabel": {
           "align": "left"
          },
          "hovermode": "closest",
          "mapbox": {
           "style": "light"
          },
          "paper_bgcolor": "white",
          "plot_bgcolor": "white",
          "polar": {
           "angularaxis": {
            "gridcolor": "#EBF0F8",
            "linecolor": "#EBF0F8",
            "ticks": ""
           },
           "bgcolor": "white",
           "radialaxis": {
            "gridcolor": "#EBF0F8",
            "linecolor": "#EBF0F8",
            "ticks": ""
           }
          },
          "scene": {
           "xaxis": {
            "backgroundcolor": "white",
            "gridcolor": "#DFE8F3",
            "gridwidth": 2,
            "linecolor": "#EBF0F8",
            "showbackground": true,
            "ticks": "",
            "zerolinecolor": "#EBF0F8"
           },
           "yaxis": {
            "backgroundcolor": "white",
            "gridcolor": "#DFE8F3",
            "gridwidth": 2,
            "linecolor": "#EBF0F8",
            "showbackground": true,
            "ticks": "",
            "zerolinecolor": "#EBF0F8"
           },
           "zaxis": {
            "backgroundcolor": "white",
            "gridcolor": "#DFE8F3",
            "gridwidth": 2,
            "linecolor": "#EBF0F8",
            "showbackground": true,
            "ticks": "",
            "zerolinecolor": "#EBF0F8"
           }
          },
          "shapedefaults": {
           "line": {
            "color": "#2a3f5f"
           }
          },
          "ternary": {
           "aaxis": {
            "gridcolor": "#DFE8F3",
            "linecolor": "#A2B1C6",
            "ticks": ""
           },
           "baxis": {
            "gridcolor": "#DFE8F3",
            "linecolor": "#A2B1C6",
            "ticks": ""
           },
           "bgcolor": "white",
           "caxis": {
            "gridcolor": "#DFE8F3",
            "linecolor": "#A2B1C6",
            "ticks": ""
           }
          },
          "title": {
           "x": 0.05
          },
          "xaxis": {
           "automargin": true,
           "gridcolor": "#EBF0F8",
           "linecolor": "#EBF0F8",
           "ticks": "",
           "title": {
            "standoff": 15
           },
           "zerolinecolor": "#EBF0F8",
           "zerolinewidth": 2
          },
          "yaxis": {
           "automargin": true,
           "gridcolor": "#EBF0F8",
           "linecolor": "#EBF0F8",
           "ticks": "",
           "title": {
            "standoff": 15
           },
           "zerolinecolor": "#EBF0F8",
           "zerolinewidth": 2
          }
         }
        },
        "title": {
         "font": {
          "color": "Black",
          "size": 22
         },
         "text": "Topic Word Scores",
         "x": 0.5,
         "xanchor": "center",
         "yanchor": "top"
        },
        "width": 1000,
        "xaxis": {
         "anchor": "y",
         "domain": [
          0,
          0.175
         ],
         "showgrid": true
        },
        "xaxis2": {
         "anchor": "y2",
         "domain": [
          0.275,
          0.45
         ],
         "showgrid": true
        },
        "xaxis3": {
         "anchor": "y3",
         "domain": [
          0.55,
          0.7250000000000001
         ],
         "showgrid": true
        },
        "xaxis4": {
         "anchor": "y4",
         "domain": [
          0.825,
          1
         ],
         "showgrid": true
        },
        "xaxis5": {
         "anchor": "y5",
         "domain": [
          0,
          0.175
         ],
         "showgrid": true
        },
        "xaxis6": {
         "anchor": "y6",
         "domain": [
          0.275,
          0.45
         ],
         "showgrid": true
        },
        "xaxis7": {
         "anchor": "y7",
         "domain": [
          0.55,
          0.7250000000000001
         ],
         "showgrid": true
        },
        "xaxis8": {
         "anchor": "y8",
         "domain": [
          0.825,
          1
         ],
         "showgrid": true
        },
        "yaxis": {
         "anchor": "x",
         "domain": [
          0.6000000000000001,
          1
         ],
         "showgrid": true
        },
        "yaxis2": {
         "anchor": "x2",
         "domain": [
          0.6000000000000001,
          1
         ],
         "showgrid": true
        },
        "yaxis3": {
         "anchor": "x3",
         "domain": [
          0.6000000000000001,
          1
         ],
         "showgrid": true
        },
        "yaxis4": {
         "anchor": "x4",
         "domain": [
          0.6000000000000001,
          1
         ],
         "showgrid": true
        },
        "yaxis5": {
         "anchor": "x5",
         "domain": [
          0,
          0.4
         ],
         "showgrid": true
        },
        "yaxis6": {
         "anchor": "x6",
         "domain": [
          0,
          0.4
         ],
         "showgrid": true
        },
        "yaxis7": {
         "anchor": "x7",
         "domain": [
          0,
          0.4
         ],
         "showgrid": true
        },
        "yaxis8": {
         "anchor": "x8",
         "domain": [
          0,
          0.4
         ],
         "showgrid": true
        }
       }
      }
     },
     "metadata": {},
     "output_type": "display_data"
    }
   ],
   "source": [
    "topic_model.visualize_barchart(n_words = 10)"
   ]
  }
 ],
 "metadata": {
  "kernelspec": {
   "display_name": "torch",
   "language": "python",
   "name": "python3"
  },
  "language_info": {
   "codemirror_mode": {
    "name": "ipython",
    "version": 3
   },
   "file_extension": ".py",
   "mimetype": "text/x-python",
   "name": "python",
   "nbconvert_exporter": "python",
   "pygments_lexer": "ipython3",
   "version": "3.11.5"
  }
 },
 "nbformat": 4,
 "nbformat_minor": 2
}
