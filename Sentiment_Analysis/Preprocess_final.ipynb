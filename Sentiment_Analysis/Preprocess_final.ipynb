{
 "cells": [
  {
   "cell_type": "code",
   "execution_count": 1,
   "id": "d8789192",
   "metadata": {},
   "outputs": [],
   "source": [
    "import tensorflow as tf\n",
    "import torch\n",
    "import numpy as np\n",
    "import pandas as pd\n",
    "import json\n",
    "from tqdm import tqdm\n",
    "import os"
   ]
  },
  {
   "cell_type": "code",
   "execution_count": 2,
   "id": "4939a930",
   "metadata": {
    "scrolled": true
   },
   "outputs": [],
   "source": [
    "train_data = pd.read_csv('data/final/relabel/final_train_data.csv')\n",
    "train_data = train_data[['Review', 'Relabel']]\n",
    "train_data.loc[(train_data['Relabel'] == \"부정\"), 'Relabel'] = 0\n",
    "train_data.loc[(train_data['Relabel'] == \"긍정\"), 'Relabel'] = 1"
   ]
  },
  {
   "cell_type": "code",
   "execution_count": 3,
   "id": "5c6f21f4",
   "metadata": {},
   "outputs": [
    {
     "data": {
      "text/html": [
       "<div>\n",
       "<style scoped>\n",
       "    .dataframe tbody tr th:only-of-type {\n",
       "        vertical-align: middle;\n",
       "    }\n",
       "\n",
       "    .dataframe tbody tr th {\n",
       "        vertical-align: top;\n",
       "    }\n",
       "\n",
       "    .dataframe thead th {\n",
       "        text-align: right;\n",
       "    }\n",
       "</style>\n",
       "<table border=\"1\" class=\"dataframe\">\n",
       "  <thead>\n",
       "    <tr style=\"text-align: right;\">\n",
       "      <th></th>\n",
       "      <th>Review</th>\n",
       "      <th>Relabel</th>\n",
       "    </tr>\n",
       "  </thead>\n",
       "  <tbody>\n",
       "    <tr>\n",
       "      <th>0</th>\n",
       "      <td>그냥 딱 정핏 이에요 원하던 핏 나와서 너무 좋아요</td>\n",
       "      <td>1</td>\n",
       "    </tr>\n",
       "    <tr>\n",
       "      <th>1</th>\n",
       "      <td>모카베이지라 그냥 베이지보다 묵직한 느낌이에요</td>\n",
       "      <td>1</td>\n",
       "    </tr>\n",
       "    <tr>\n",
       "      <th>2</th>\n",
       "      <td>저번에 제주니트 샀을 때 핏이 너무 좋아서 검은색도 샀는데 엘무드 역시 좋네요~~~</td>\n",
       "      <td>1</td>\n",
       "    </tr>\n",
       "    <tr>\n",
       "      <th>3</th>\n",
       "      <td>올해 제품이 별로다 ㄴㄴㄴ작년 거가 오진다 ooo173에 하비인데요 작년 거 살 때...</td>\n",
       "      <td>0</td>\n",
       "    </tr>\n",
       "    <tr>\n",
       "      <th>4</th>\n",
       "      <td>막 별로는 아닌데 기대 이하였습니다. 딱 3점정도워낙 자자해서 구매했는데, 재질 그...</td>\n",
       "      <td>0</td>\n",
       "    </tr>\n",
       "    <tr>\n",
       "      <th>...</th>\n",
       "      <td>...</td>\n",
       "      <td>...</td>\n",
       "    </tr>\n",
       "    <tr>\n",
       "      <th>10889</th>\n",
       "      <td>밑위가 좀 작은 거 빼곤 전반적으로 만족합니다. 괜찮네요</td>\n",
       "      <td>0</td>\n",
       "    </tr>\n",
       "    <tr>\n",
       "      <th>10890</th>\n",
       "      <td>이뻐요 엄청 오버핏이라 팔통이 커요 기장은 짧은데 통은 엄청 널벙요</td>\n",
       "      <td>0</td>\n",
       "    </tr>\n",
       "    <tr>\n",
       "      <th>10891</th>\n",
       "      <td>어깨가 넓어보여요. 색은 사진과 같고 부드럽습니다.</td>\n",
       "      <td>1</td>\n",
       "    </tr>\n",
       "    <tr>\n",
       "      <th>10892</th>\n",
       "      <td>올해 특히 더 발마칸 유행이라 주문이 많은지 배송이 조금 늦게 왔지만 옷을 받아보고...</td>\n",
       "      <td>1</td>\n",
       "    </tr>\n",
       "    <tr>\n",
       "      <th>10893</th>\n",
       "      <td>니티드 상품은 첨인데깡형 믿고 구매했어요~!사이즈 완전 핏해요~!살빼라네요 ㅎ</td>\n",
       "      <td>1</td>\n",
       "    </tr>\n",
       "  </tbody>\n",
       "</table>\n",
       "<p>10894 rows × 2 columns</p>\n",
       "</div>"
      ],
      "text/plain": [
       "                                                  Review Relabel\n",
       "0                          그냥 딱 정핏 이에요 원하던 핏 나와서 너무 좋아요        1\n",
       "1                              모카베이지라 그냥 베이지보다 묵직한 느낌이에요       1\n",
       "2         저번에 제주니트 샀을 때 핏이 너무 좋아서 검은색도 샀는데 엘무드 역시 좋네요~~~       1\n",
       "3      올해 제품이 별로다 ㄴㄴㄴ작년 거가 오진다 ooo173에 하비인데요 작년 거 살 때...       0\n",
       "4      막 별로는 아닌데 기대 이하였습니다. 딱 3점정도워낙 자자해서 구매했는데, 재질 그...       0\n",
       "...                                                  ...     ...\n",
       "10889                    밑위가 좀 작은 거 빼곤 전반적으로 만족합니다. 괜찮네요       0\n",
       "10890              이뻐요 엄청 오버핏이라 팔통이 커요 기장은 짧은데 통은 엄청 널벙요       0\n",
       "10891                      어깨가 넓어보여요. 색은 사진과 같고 부드럽습니다.        1\n",
       "10892  올해 특히 더 발마칸 유행이라 주문이 많은지 배송이 조금 늦게 왔지만 옷을 받아보고...       1\n",
       "10893        니티드 상품은 첨인데깡형 믿고 구매했어요~!사이즈 완전 핏해요~!살빼라네요 ㅎ       1\n",
       "\n",
       "[10894 rows x 2 columns]"
      ]
     },
     "execution_count": 3,
     "metadata": {},
     "output_type": "execute_result"
    }
   ],
   "source": [
    "train_data"
   ]
  },
  {
   "cell_type": "code",
   "execution_count": 4,
   "id": "8e5c5942",
   "metadata": {},
   "outputs": [
    {
     "name": "stdout",
     "output_type": "stream",
     "text": [
      "Review     0\n",
      "Relabel    0\n",
      "dtype: int64\n"
     ]
    },
    {
     "name": "stderr",
     "output_type": "stream",
     "text": [
      "/var/folders/8s/_473l8ss1hx20zy1txdh03x40000gn/T/ipykernel_78631/3320672272.py:1: FutureWarning: The default value of regex will change from True to False in a future version.\n",
      "  train_data['Review'] = train_data['Review'].str.replace(\"[^ㄱ-ㅎㅏ-ㅣ가-힣 ]\",\"\")\n"
     ]
    }
   ],
   "source": [
    "train_data['Review'] = train_data['Review'].str.replace(\"[^ㄱ-ㅎㅏ-ㅣ가-힣 ]\",\"\")\n",
    "print(train_data.isnull().sum())"
   ]
  },
  {
   "cell_type": "code",
   "execution_count": 6,
   "id": "4f158a69",
   "metadata": {},
   "outputs": [],
   "source": [
    "train_data.to_csv('train_data.txt', sep = '\\t', index = False)"
   ]
  },
  {
   "cell_type": "code",
   "execution_count": null,
   "id": "5ddadaee",
   "metadata": {},
   "outputs": [],
   "source": []
  }
 ],
 "metadata": {
  "kernelspec": {
   "display_name": "Python 3 (ipykernel)",
   "language": "python",
   "name": "python3"
  },
  "language_info": {
   "codemirror_mode": {
    "name": "ipython",
    "version": 3
   },
   "file_extension": ".py",
   "mimetype": "text/x-python",
   "name": "python",
   "nbconvert_exporter": "python",
   "pygments_lexer": "ipython3",
   "version": "3.11.4"
  }
 },
 "nbformat": 4,
 "nbformat_minor": 5
}
